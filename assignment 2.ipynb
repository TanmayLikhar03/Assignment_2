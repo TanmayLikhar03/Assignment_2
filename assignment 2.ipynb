{
 "cells": [
  {
   "cell_type": "markdown",
   "id": "372b1580-8a4c-4872-b17a-409ac538fc1f",
   "metadata": {},
   "source": [
    "Q1. How do you comment code in Python? What are the different types of comments?"
   ]
  },
  {
   "cell_type": "markdown",
   "id": "345e1553-d6c4-4d5e-a889-a0a992af9c1e",
   "metadata": {},
   "source": [
    "There are two ways to comment code in python.\n",
    "1) Single line comment : In this type of comment we use the hash symbol(#) and it is applicable till the end of the line. "
   ]
  },
  {
   "cell_type": "code",
   "execution_count": 1,
   "id": "c1fc150c-959e-4e91-9136-f27a4d7026d2",
   "metadata": {},
   "outputs": [
    {
     "name": "stdout",
     "output_type": "stream",
     "text": [
      "Hello World\n"
     ]
    }
   ],
   "source": [
    "# Example\n",
    "# This is the code to print the \"Hello World\" in the output.\n",
    "print(\"Hello World\")"
   ]
  },
  {
   "cell_type": "markdown",
   "id": "64579252-7dae-4a58-ad11-6fb5d4767ba9",
   "metadata": {},
   "source": [
    "2) Multi line Comment : In this type of comment we use the triple quotes (''' or \"\"\") . This allow us to write the comment in various line. We can either use Triple Single quotes or triple double quotes."
   ]
  },
  {
   "cell_type": "code",
   "execution_count": 2,
   "id": "c89490f4-3810-4608-9379-e69fd1a3fd54",
   "metadata": {},
   "outputs": [
    {
     "name": "stdout",
     "output_type": "stream",
     "text": [
      "Tanmay Likhar\n"
     ]
    }
   ],
   "source": [
    "\"\"\" This is the multiline comment\n",
    "Which allow us to write comment\n",
    "over the different line \"\"\"\n",
    "print(\"Tanmay Likhar\")"
   ]
  },
  {
   "cell_type": "markdown",
   "id": "58b665d7-e84c-4e36-9a54-a0c88da41ca4",
   "metadata": {},
   "source": [
    "Q2. What are variables in Python? How do you declare and assign values to variables?"
   ]
  },
  {
   "cell_type": "markdown",
   "id": "2e1b48ae-444d-4acb-8edf-b7c4d72d2586",
   "metadata": {},
   "source": [
    "Variables : The name given to the storage location in computer memory. This are basically the container used to store differnt type of data such as [int,float,bool,complex,string] . This can used in program to perform certain operation on them according to need."
   ]
  },
  {
   "cell_type": "code",
   "execution_count": 5,
   "id": "56210d60-9346-4c1e-9e8c-4181dda4830d",
   "metadata": {},
   "outputs": [
    {
     "data": {
      "text/plain": [
       "['pwskills', 23, 56.78, True, (5+8j)]"
      ]
     },
     "execution_count": 5,
     "metadata": {},
     "output_type": "execute_result"
    }
   ],
   "source": [
    "# declaration of variable\n",
    "num_1 = [\"pwskills\",23,56.78,True,5+8j]\n",
    "# In the above code the num_1 is the variable and the List on the right side is data stored in the variable.\n",
    "num_1"
   ]
  },
  {
   "cell_type": "markdown",
   "id": "adae3e93-dfa0-4b1a-84f2-940f27ded0c7",
   "metadata": {},
   "source": [
    "Q3. How do you convert one data type to another in Python?"
   ]
  },
  {
   "cell_type": "markdown",
   "id": "f17019cf-2ed1-42c9-adba-c4b622351490",
   "metadata": {},
   "source": [
    "In Python, to convert the one data type into another data type we can use the type conversion technique. To perform type conversion there in bulit function such as (int,float,bool,string,complex)"
   ]
  },
  {
   "cell_type": "code",
   "execution_count": 19,
   "id": "35c447b9-150f-4a6b-b759-a0f38b21d8af",
   "metadata": {},
   "outputs": [
    {
     "data": {
      "text/plain": [
       "3.0"
      ]
     },
     "execution_count": 19,
     "metadata": {},
     "output_type": "execute_result"
    }
   ],
   "source": [
    "a = 3\n",
    "float(a) # It will convert the Integer to Float"
   ]
  },
  {
   "cell_type": "code",
   "execution_count": 20,
   "id": "2f11070d-759d-491d-b4de-96431842768d",
   "metadata": {},
   "outputs": [
    {
     "data": {
      "text/plain": [
       "4"
      ]
     },
     "execution_count": 20,
     "metadata": {},
     "output_type": "execute_result"
    }
   ],
   "source": [
    "b = 4.56 \n",
    "int(b)# It will convert the Float to Integer\n"
   ]
  },
  {
   "cell_type": "code",
   "execution_count": 22,
   "id": "e449135b-4796-421b-b51c-12a0974e6aac",
   "metadata": {},
   "outputs": [
    {
     "data": {
      "text/plain": [
       "'45'"
      ]
     },
     "execution_count": 22,
     "metadata": {},
     "output_type": "execute_result"
    }
   ],
   "source": [
    "c = 45\n",
    "str(c) # it will convert the Int to String"
   ]
  },
  {
   "cell_type": "code",
   "execution_count": 27,
   "id": "a5246a21-02fe-4518-a60c-c9decd1b604f",
   "metadata": {},
   "outputs": [
    {
     "data": {
      "text/plain": [
       "(8+0j)"
      ]
     },
     "execution_count": 27,
     "metadata": {},
     "output_type": "execute_result"
    }
   ],
   "source": [
    "d = 8\n",
    "complex(d) # It will convert the Integer to complex number"
   ]
  },
  {
   "cell_type": "markdown",
   "id": "99f526d2-b582-496f-8de2-382038d33451",
   "metadata": {},
   "source": [
    "Q4. How do you write and execute a Python script from the command line?\n",
    "Ans : \n",
    "Step 1 : Open any text editor (Notepad,Sublime text etc) to write the python program and save the file as .py in your  system.\n",
    "\n",
    "Step 2 : In this open the command prompt and give the input of the directory where your file is stored. For example if file is stored in the 'Document Folder' we will give the path as follow 'C:\\Users\\Pwskills\\Document'\n",
    "It will take the command prompt in the document folder.\n",
    "\n",
    "Step 3 : To execute the code we will use the command as follow 'Python3 my_program.py' . In this command the my_program.py is the file name and Python3 is version of python avaliable on the local system.\n",
    "\n",
    "By this following step we can execute the Python Script in the Command prompt.\n"
   ]
  },
  {
   "cell_type": "markdown",
   "id": "d636ff98-0646-48d5-97c9-980078ee385f",
   "metadata": {},
   "source": [
    "Q5. Given a list my_list = [1, 2, 3, 4, 5], write the code to slice the list and obtain the sub-list [2, 3]."
   ]
  },
  {
   "cell_type": "code",
   "execution_count": 35,
   "id": "2d8ebcd8-44ce-486d-a865-451710be4e50",
   "metadata": {},
   "outputs": [
    {
     "data": {
      "text/plain": [
       "[2, 3]"
      ]
     },
     "execution_count": 35,
     "metadata": {},
     "output_type": "execute_result"
    }
   ],
   "source": [
    "my_list = [1,2,3,4,5]\n",
    "sub_list = my_list[1:3]\n",
    "sub_list"
   ]
  },
  {
   "cell_type": "markdown",
   "id": "e1071116-e7b4-41c4-b843-adff1b39cb00",
   "metadata": {},
   "source": [
    "Q6. What is a complex number in mathematics, and how is it represented in Python?"
   ]
  },
  {
   "cell_type": "markdown",
   "id": "0d237333-a3b4-43ec-bbb2-6f36e07ce4ca",
   "metadata": {},
   "source": [
    "Complex Number in mathematics : The complex number is the combination of the real number and imaginary number.\n",
    "In mathmatics the the complex number is denoted as x + yi. x and y are the number and i is used to denote the imaginary part. \n",
    "\n",
    "In Python the complex number is denoted as x + yj. Here, a and b are the number and j is used to denote the imgainary part. "
   ]
  },
  {
   "cell_type": "markdown",
   "id": "296dd7ec-56ed-4047-acaf-24ad27238fb5",
   "metadata": {},
   "source": [
    "Q7. What is the correct way to declare a variable named age and assign the value 25 to it?"
   ]
  },
  {
   "cell_type": "code",
   "execution_count": 37,
   "id": "34822a47-7ed1-4da4-a042-e8f32389b2b0",
   "metadata": {},
   "outputs": [
    {
     "data": {
      "text/plain": [
       "25"
      ]
     },
     "execution_count": 37,
     "metadata": {},
     "output_type": "execute_result"
    }
   ],
   "source": [
    "# The correct way is ass follow\n",
    "age = 25\n",
    "age"
   ]
  },
  {
   "cell_type": "markdown",
   "id": "a3108a74-a220-410f-adc6-0869e551e9e0",
   "metadata": {},
   "source": [
    "Q8. Declare a variable named price and assign the value 9.99 to it. What data type does this variable\n",
    "belong to?"
   ]
  },
  {
   "cell_type": "code",
   "execution_count": 40,
   "id": "0c474231-4912-4720-ac34-0ef9aaf97344",
   "metadata": {},
   "outputs": [
    {
     "data": {
      "text/plain": [
       "9.99"
      ]
     },
     "execution_count": 40,
     "metadata": {},
     "output_type": "execute_result"
    }
   ],
   "source": [
    "price = 9.99\n",
    "price\n",
    "# The data type of the variable belong to Float."
   ]
  },
  {
   "cell_type": "markdown",
   "id": "8d68d7d0-574d-4938-90e9-882daaa5d129",
   "metadata": {},
   "source": [
    "Q9. Create a variable named name and assign your full name to it as a string. How would you print the\n",
    "value of this variable?"
   ]
  },
  {
   "cell_type": "code",
   "execution_count": 46,
   "id": "094ead69-7cd4-460a-acdb-be937740e731",
   "metadata": {},
   "outputs": [
    {
     "data": {
      "text/plain": [
       "'Tanmay Govindrao Likhar'"
      ]
     },
     "execution_count": 46,
     "metadata": {},
     "output_type": "execute_result"
    }
   ],
   "source": [
    "name = \"Tanmay Govindrao Likhar\"\n",
    "# There are two way in jupyter notebook (i) By simply calling the variable name (ii) By using the print function\n",
    "name"
   ]
  },
  {
   "cell_type": "code",
   "execution_count": 47,
   "id": "ebdc9846-957e-42a2-8460-e454540b86bd",
   "metadata": {},
   "outputs": [
    {
     "name": "stdout",
     "output_type": "stream",
     "text": [
      "Tanmay Govindrao Likhar\n"
     ]
    }
   ],
   "source": [
    "print(name)"
   ]
  },
  {
   "cell_type": "markdown",
   "id": "ae299797-12b9-474c-b07d-c3b0ad2a3391",
   "metadata": {},
   "source": [
    "Q10. Given the string \"Hello, World!\", extract the substring \"World\"."
   ]
  },
  {
   "cell_type": "code",
   "execution_count": 49,
   "id": "8550c148-bbc4-4123-931b-fc4526f49426",
   "metadata": {},
   "outputs": [
    {
     "data": {
      "text/plain": [
       "'World'"
      ]
     },
     "execution_count": 49,
     "metadata": {},
     "output_type": "execute_result"
    }
   ],
   "source": [
    "string_1 = \"Hello, World!\"\n",
    "# To extract the sub string we will use the slicing \n",
    "string_1[7:12]"
   ]
  },
  {
   "cell_type": "markdown",
   "id": "2fa734f5-0a80-4eb3-b656-1ec0246c80b4",
   "metadata": {},
   "source": [
    "Q11. Create a variable named \"is_student\" and assign it a boolean value indicating whether you are\n",
    "currently a student or not."
   ]
  },
  {
   "cell_type": "code",
   "execution_count": 52,
   "id": "d09a219f-1b11-4a5d-a388-e328c595ebe5",
   "metadata": {},
   "outputs": [
    {
     "data": {
      "text/plain": [
       "True"
      ]
     },
     "execution_count": 52,
     "metadata": {},
     "output_type": "execute_result"
    }
   ],
   "source": [
    "is_student = True\n",
    "#We will use boolean value as follow\n",
    "#True : Currently a student\n",
    "#False : Not a student\n",
    "is_student"
   ]
  }
 ],
 "metadata": {
  "kernelspec": {
   "display_name": "Python 3 (ipykernel)",
   "language": "python",
   "name": "python3"
  },
  "language_info": {
   "codemirror_mode": {
    "name": "ipython",
    "version": 3
   },
   "file_extension": ".py",
   "mimetype": "text/x-python",
   "name": "python",
   "nbconvert_exporter": "python",
   "pygments_lexer": "ipython3",
   "version": "3.10.8"
  }
 },
 "nbformat": 4,
 "nbformat_minor": 5
}
